{
  "nbformat": 4,
  "nbformat_minor": 0,
  "metadata": {
    "colab": {
      "provenance": []
    },
    "kernelspec": {
      "name": "python3",
      "display_name": "Python 3"
    },
    "language_info": {
      "name": "python"
    }
  },
  "cells": [
    {
      "cell_type": "code",
      "execution_count": null,
      "metadata": {
        "id": "879Bb8msf1q7"
      },
      "outputs": [],
      "source": [
        "def print_msg():\n",
        "  print(\"Hello World\")\n",
        "  print(\"baris pertama\")\n",
        "  print(\"baris kedua\")"
      ]
    },
    {
      "cell_type": "code",
      "source": [
        "print_msg()"
      ],
      "metadata": {
        "colab": {
          "base_uri": "https://localhost:8080/"
        },
        "id": "9YW6TZJKiEB2",
        "outputId": "75795dd4-1553-4072-8138-366e1144aadf"
      },
      "execution_count": null,
      "outputs": [
        {
          "output_type": "stream",
          "name": "stdout",
          "text": [
            "Hello World\n",
            "baris pertama\n",
            "baris kedua\n"
          ]
        }
      ]
    },
    {
      "cell_type": "code",
      "source": [
        "def print_msg(input_user):\n",
        "  print(\"input berikut adalah dari user\", input_user)"
      ],
      "metadata": {
        "id": "Ro7N08CoiIuz"
      },
      "execution_count": null,
      "outputs": []
    },
    {
      "cell_type": "code",
      "source": [
        "var1=\"Hallo Python\"\n",
        "print_msg(var1)"
      ],
      "metadata": {
        "colab": {
          "base_uri": "https://localhost:8080/"
        },
        "id": "bqjAVu11iUmo",
        "outputId": "feed6667-f58a-462d-965d-5e543995e0b9"
      },
      "execution_count": null,
      "outputs": [
        {
          "output_type": "stream",
          "name": "stdout",
          "text": [
            "input berikut adalah dari user Hallo Python\n"
          ]
        }
      ]
    },
    {
      "cell_type": "code",
      "source": [
        "def print_mgs(var1, var2, var3):\n",
        "  print(\"ini adalah variable pertama:\", var1)\n",
        "  print(\"ini adalah variable kedua:\", var2)\n",
        "  print(\"ini adalah variable ketiga:\", var3)"
      ],
      "metadata": {
        "id": "gsArioabij8q"
      },
      "execution_count": null,
      "outputs": []
    },
    {
      "cell_type": "code",
      "source": [
        "def print_msg(arg1, arg2, arg3):\n",
        "    print(arg1)\n",
        "    print(arg2)\n",
        "    print(arg3)\n",
        "kata1 = \"python\"\n",
        "kata2 = \"functional programming\"\n",
        "kata3 = \"Digital Skola\"\n",
        "\n",
        "print_msg(kata1, kata2, kata3)"
      ],
      "metadata": {
        "colab": {
          "base_uri": "https://localhost:8080/"
        },
        "id": "FWzsFbYki4-f",
        "outputId": "8e887bcf-7d2f-4505-f14e-3dc9e247b5b3"
      },
      "execution_count": null,
      "outputs": [
        {
          "output_type": "stream",
          "name": "stdout",
          "text": [
            "python\n",
            "functional programming\n",
            "Digital Skola\n"
          ]
        }
      ]
    },
    {
      "cell_type": "code",
      "source": [
        "kata1 =\"python\"\n",
        "kata2 = \"functional programming\"\n",
        "kata3 = \"Digital Skola\"\n",
        "\n",
        "print_msg(kata1, kata2, kata3)"
      ],
      "metadata": {
        "colab": {
          "base_uri": "https://localhost:8080/"
        },
        "id": "9Vd-Bpo2kIxs",
        "outputId": "9f04b8f7-09b0-4c2c-9b22-3b750993d54f"
      },
      "execution_count": null,
      "outputs": [
        {
          "output_type": "stream",
          "name": "stdout",
          "text": [
            "python\n",
            "functional programming\n",
            "Digital Skola\n"
          ]
        }
      ]
    },
    {
      "cell_type": "code",
      "source": [
        "def jumlah(a, b):\n",
        "  c=a+b\n",
        "  print(\"Hasil penjumlahan dari\", a, \"dengan\", b, \"adalah\", c)"
      ],
      "metadata": {
        "id": "pw3oskFKlbBl"
      },
      "execution_count": null,
      "outputs": []
    },
    {
      "cell_type": "code",
      "source": [
        "jumlah(5, 7)"
      ],
      "metadata": {
        "colab": {
          "base_uri": "https://localhost:8080/"
        },
        "id": "j-zI9KKUlv_J",
        "outputId": "6884904f-e4c1-400f-bb72-3c2bcbf76e06"
      },
      "execution_count": null,
      "outputs": [
        {
          "output_type": "stream",
          "name": "stdout",
          "text": [
            "Hasil penjumlahan dari 5 dengan 7 adalah 12\n"
          ]
        }
      ]
    },
    {
      "cell_type": "code",
      "source": [
        "def print_mahasiswa(*mhs):\n",
        "  print(\"ini adalah mahasiswa:\", mhs[0])"
      ],
      "metadata": {
        "id": "R2cWwwFbl3LS"
      },
      "execution_count": null,
      "outputs": []
    },
    {
      "cell_type": "code",
      "source": [
        "print_mahasiswa(\"bayu\",\"andi\",\"evan\",\"eri\")"
      ],
      "metadata": {
        "colab": {
          "base_uri": "https://localhost:8080/"
        },
        "id": "LcNwpit0mbDg",
        "outputId": "8aee6b61-11f1-447f-da9a-676f181a20fc"
      },
      "execution_count": null,
      "outputs": [
        {
          "output_type": "stream",
          "name": "stdout",
          "text": [
            "ini adalah mahasiswa: bayu\n"
          ]
        }
      ]
    },
    {
      "cell_type": "code",
      "source": [
        "def print_mahasiswa(*mhs):\n",
        "  for i in mhs:\n",
        "    print(\"ini adalah mahasiswa:\", i)"
      ],
      "metadata": {
        "id": "QdhPGNAHmnLK"
      },
      "execution_count": null,
      "outputs": []
    },
    {
      "cell_type": "code",
      "source": [
        "print_mahasiswa(\"bayu\",\"andi\",\"evan\",\"eri\")"
      ],
      "metadata": {
        "colab": {
          "base_uri": "https://localhost:8080/"
        },
        "id": "k2abOOk6m0C0",
        "outputId": "1f2e9595-31c0-4419-c5ca-8167515146b0"
      },
      "execution_count": null,
      "outputs": [
        {
          "output_type": "stream",
          "name": "stdout",
          "text": [
            "ini adalah mahasiswa: bayu\n",
            "ini adalah mahasiswa: andi\n",
            "ini adalah mahasiswa: evan\n",
            "ini adalah mahasiswa: eri\n"
          ]
        }
      ]
    },
    {
      "cell_type": "code",
      "source": [
        "def print_msg(nama, alamat, jurusan):\n",
        "  print(\"ini adalah variable nama:\", nama)\n",
        "  print(\"ini adalah variable alamat:\", alamat)\n",
        "  print(\"ini adalah variable jurusan:\", jurusan)"
      ],
      "metadata": {
        "id": "oizYQ6U_nCfD"
      },
      "execution_count": null,
      "outputs": []
    },
    {
      "cell_type": "code",
      "source": [
        "print_msg(nama=\"aries\", alamat=\"bogor\", jurusan=\"ilmu komputer\")\n"
      ],
      "metadata": {
        "colab": {
          "base_uri": "https://localhost:8080/"
        },
        "id": "4jEvvmMEnZtD",
        "outputId": "dc5006c4-3b4c-4d5f-d387-3c98c515c3bf"
      },
      "execution_count": null,
      "outputs": [
        {
          "output_type": "stream",
          "name": "stdout",
          "text": [
            "ini adalah variable nama: aries\n",
            "ini adalah variable alamat: bogor\n",
            "ini adalah variable jurusan: ilmu komputer\n"
          ]
        }
      ]
    },
    {
      "cell_type": "markdown",
      "source": [],
      "metadata": {
        "id": "y6Gcug9JouZN"
      }
    },
    {
      "cell_type": "code",
      "source": [
        "print_msg(alamat=\"bogor\", jurusan=\"ilmu komputer\", nama=\"aries\")"
      ],
      "metadata": {
        "colab": {
          "base_uri": "https://localhost:8080/"
        },
        "id": "95UnTCokoSF3",
        "outputId": "60a41175-959e-4751-bda1-5f26c0c892d3"
      },
      "execution_count": null,
      "outputs": [
        {
          "output_type": "stream",
          "name": "stdout",
          "text": [
            "ini adalah variable nama: aries\n",
            "ini adalah variable alamat: bogor\n",
            "ini adalah variable jurusan: ilmu komputer\n"
          ]
        }
      ]
    },
    {
      "cell_type": "code",
      "source": [
        "def data_mahasiswa(**data):\n",
        "  print(\"nama adalah:\", data['nama'])\n",
        "  print(\"alamat:\", data['alamat'])\n",
        "  print(\"jurusan:\", data['jurusan'])"
      ],
      "metadata": {
        "id": "iEYChMUyqanf"
      },
      "execution_count": null,
      "outputs": []
    },
    {
      "cell_type": "code",
      "source": [
        "data_mahasiswa(alamat=\"Bogor\", jurusan=\"Ilmu Komputer\", nama=\"Aries\")"
      ],
      "metadata": {
        "colab": {
          "base_uri": "https://localhost:8080/"
        },
        "id": "X1Qj-8veq6oG",
        "outputId": "b2616bfc-7c1d-42a0-97d2-ab13a294dd3a"
      },
      "execution_count": null,
      "outputs": [
        {
          "output_type": "stream",
          "name": "stdout",
          "text": [
            "nama adalah: Aries\n",
            "alamat: Bogor\n",
            "jurusan: Ilmu Komputer\n"
          ]
        }
      ]
    },
    {
      "cell_type": "code",
      "source": [
        "def jurusan_mhs(nama, jurusan=\"Teknik Mesin\"):\n",
        "  print(\"jurusan mahasiswa adalah\", jurusan)\n",
        "  print(\"nama mahasiswa adalah\", nama)"
      ],
      "metadata": {
        "id": "rvm5gPraroD0"
      },
      "execution_count": null,
      "outputs": []
    },
    {
      "cell_type": "code",
      "source": [
        "jurusan_mhs(\"Aries\", \"Ilmu Komputer\")"
      ],
      "metadata": {
        "colab": {
          "base_uri": "https://localhost:8080/"
        },
        "id": "mPRKebJ7sfib",
        "outputId": "559ecdda-487c-4cd7-ce0c-42012dc8c191"
      },
      "execution_count": null,
      "outputs": [
        {
          "output_type": "stream",
          "name": "stdout",
          "text": [
            "jurusan mahasiswa adalah Ilmu Komputer\n",
            "nama mahasiswa adalah Aries\n"
          ]
        }
      ]
    },
    {
      "cell_type": "code",
      "source": [
        "def print_matakuliah(mk):\n",
        "  for x in mk:\n",
        "    print(\"mata kuliahnya adalah\", x)\n",
        "\n",
        "mk_input = [\"Pemrograman\", \"Kalkulus\", \"Ilmu Ekonomi\"]\n",
        "print_matakuliah(mk_input)"
      ],
      "metadata": {
        "colab": {
          "base_uri": "https://localhost:8080/"
        },
        "id": "_fyPCSgqs79q",
        "outputId": "5086a840-3ac2-4909-cf2a-8ab566f4814e"
      },
      "execution_count": null,
      "outputs": [
        {
          "output_type": "stream",
          "name": "stdout",
          "text": [
            "mata kuliahnya adalah Pemrograman\n",
            "mata kuliahnya adalah Kalkulus\n",
            "mata kuliahnya adalah Ilmu Ekonomi\n"
          ]
        }
      ]
    },
    {
      "cell_type": "code",
      "source": [
        "def get_addition(a, b):\n",
        "  c = a+b\n",
        "  return c"
      ],
      "metadata": {
        "id": "0dBOWKpbth6b"
      },
      "execution_count": null,
      "outputs": []
    },
    {
      "cell_type": "code",
      "source": [
        "var1 = 10\n",
        "var2 = 15\n",
        "var3 = get_addition(var1, var2)"
      ],
      "metadata": {
        "id": "XHP_xng7txf7"
      },
      "execution_count": null,
      "outputs": []
    },
    {
      "cell_type": "code",
      "source": [
        "print(\"Hasil penjumlahannya\", var3)"
      ],
      "metadata": {
        "colab": {
          "base_uri": "https://localhost:8080/"
        },
        "id": "Al9P0_pSuB3E",
        "outputId": "e0d0a7c6-26df-410f-c87e-db90412fd736"
      },
      "execution_count": null,
      "outputs": [
        {
          "output_type": "stream",
          "name": "stdout",
          "text": [
            "Hasil penjumlahannya 25\n"
          ]
        }
      ]
    },
    {
      "cell_type": "code",
      "source": [
        "def get_calculation(a, b):\n",
        "  c = a+b\n",
        "  d = a-b\n",
        "  e = a*b\n",
        "  f = a/b\n",
        "  return c,d,e,f"
      ],
      "metadata": {
        "id": "1FDdghiGuRTf"
      },
      "execution_count": null,
      "outputs": []
    },
    {
      "cell_type": "code",
      "source": [
        "var1 = 10\n",
        "var2 = 12\n",
        "\n",
        "jumlah, kurang, kali, bagi=get_calculation(var1, var2)"
      ],
      "metadata": {
        "id": "mevb5JZOul0J"
      },
      "execution_count": null,
      "outputs": []
    },
    {
      "cell_type": "code",
      "source": [
        "print(\"penjumlahannya\", jumlah)\n",
        "print(\"pengurangannya\", kurang)\n",
        "print(\"perkaliannya\", kali)\n",
        "print(\"pembagiannya\", bagi)"
      ],
      "metadata": {
        "colab": {
          "base_uri": "https://localhost:8080/"
        },
        "id": "Ezy-2Z68vPhm",
        "outputId": "a675f111-a5e7-42d6-edac-aacacf343436"
      },
      "execution_count": null,
      "outputs": [
        {
          "output_type": "stream",
          "name": "stdout",
          "text": [
            "penjumlahannya 22\n",
            "pengurangannya -2\n",
            "perkaliannya 120\n",
            "pembagiannya 0.8333333333333334\n"
          ]
        }
      ]
    },
    {
      "cell_type": "code",
      "source": [
        "#Local Variable\n",
        "def myMHS():\n",
        "  nama_mhs = \"Aries\"\n",
        "  print(nama_mhs)"
      ],
      "metadata": {
        "id": "p_v2ImENv4vM"
      },
      "execution_count": null,
      "outputs": []
    },
    {
      "cell_type": "code",
      "source": [
        "myMHS()"
      ],
      "metadata": {
        "colab": {
          "base_uri": "https://localhost:8080/"
        },
        "id": "qW3xlPe0wFJY",
        "outputId": "5fd44da2-e101-4d07-9318-8feca38b14dc"
      },
      "execution_count": null,
      "outputs": [
        {
          "output_type": "stream",
          "name": "stdout",
          "text": [
            "Aries\n"
          ]
        }
      ]
    },
    {
      "cell_type": "code",
      "source": [
        "#Global Variable\n",
        "def myMHS_global():\n",
        "  global nama_mhs2\n",
        "  nama_mhs2 = \"Aries\"\n",
        "  print(nama_mhs2)"
      ],
      "metadata": {
        "id": "klmO8_2lwH8H"
      },
      "execution_count": null,
      "outputs": []
    },
    {
      "cell_type": "code",
      "source": [
        "myMHS_global()"
      ],
      "metadata": {
        "colab": {
          "base_uri": "https://localhost:8080/"
        },
        "id": "se7G55aJw2Cz",
        "outputId": "4d10ff08-c72c-4825-f1ef-ac83c914ebff"
      },
      "execution_count": null,
      "outputs": [
        {
          "output_type": "stream",
          "name": "stdout",
          "text": [
            "Aries\n"
          ]
        }
      ]
    },
    {
      "cell_type": "code",
      "source": [
        "print(nama_mhs2)"
      ],
      "metadata": {
        "colab": {
          "base_uri": "https://localhost:8080/"
        },
        "id": "698pj6i3xAlB",
        "outputId": "e01437e2-509f-48cd-addb-70077844beb4"
      },
      "execution_count": null,
      "outputs": [
        {
          "output_type": "stream",
          "name": "stdout",
          "text": [
            "Aries\n"
          ]
        }
      ]
    },
    {
      "cell_type": "code",
      "source": [
        "nama_mhs3 = \"Yudi\"\n",
        "\n",
        "def myMHS3():\n",
        "  print(nama_mhs3)\n",
        "\n",
        "myMHS3()"
      ],
      "metadata": {
        "colab": {
          "base_uri": "https://localhost:8080/"
        },
        "id": "NcrGMqP-xQ_A",
        "outputId": "2ce92215-f01d-42e7-9368-307c40af9dcd"
      },
      "execution_count": null,
      "outputs": [
        {
          "output_type": "stream",
          "name": "stdout",
          "text": [
            "Yudi\n"
          ]
        }
      ]
    },
    {
      "cell_type": "code",
      "source": [
        "!pip install pandas"
      ],
      "metadata": {
        "colab": {
          "base_uri": "https://localhost:8080/"
        },
        "id": "yThy2KuXzCa9",
        "outputId": "57cb2991-dd0e-4a30-abb2-0ec76bb884c6"
      },
      "execution_count": null,
      "outputs": [
        {
          "output_type": "stream",
          "name": "stdout",
          "text": [
            "Requirement already satisfied: pandas in /usr/local/lib/python3.10/dist-packages (2.2.2)\n",
            "Requirement already satisfied: numpy>=1.22.4 in /usr/local/lib/python3.10/dist-packages (from pandas) (1.26.4)\n",
            "Requirement already satisfied: python-dateutil>=2.8.2 in /usr/local/lib/python3.10/dist-packages (from pandas) (2.8.2)\n",
            "Requirement already satisfied: pytz>=2020.1 in /usr/local/lib/python3.10/dist-packages (from pandas) (2024.2)\n",
            "Requirement already satisfied: tzdata>=2022.7 in /usr/local/lib/python3.10/dist-packages (from pandas) (2024.2)\n",
            "Requirement already satisfied: six>=1.5 in /usr/local/lib/python3.10/dist-packages (from python-dateutil>=2.8.2->pandas) (1.16.0)\n"
          ]
        }
      ]
    },
    {
      "cell_type": "code",
      "source": [
        "import math\n",
        "\n",
        "a = math.pow(10, 3)\n",
        "print(a)"
      ],
      "metadata": {
        "colab": {
          "base_uri": "https://localhost:8080/"
        },
        "id": "gltZI2SCzRdK",
        "outputId": "86a5a1f2-8899-42d4-ccd1-f1c02f909641"
      },
      "execution_count": null,
      "outputs": [
        {
          "output_type": "stream",
          "name": "stdout",
          "text": [
            "1000.0\n"
          ]
        }
      ]
    },
    {
      "cell_type": "code",
      "source": [
        "b = [1,2,3,4,5]\n",
        "c = math.fsum(b)\n",
        "\n",
        "print(c)"
      ],
      "metadata": {
        "colab": {
          "base_uri": "https://localhost:8080/"
        },
        "id": "hIy2V2n60FMT",
        "outputId": "16899a67-c415-461a-cc41-74d793cb0fee"
      },
      "execution_count": null,
      "outputs": [
        {
          "output_type": "stream",
          "name": "stdout",
          "text": [
            "15.0\n"
          ]
        }
      ]
    },
    {
      "cell_type": "code",
      "source": [
        "string1 = \"Hello World\"\n",
        "print(string1)"
      ],
      "metadata": {
        "colab": {
          "base_uri": "https://localhost:8080/"
        },
        "id": "O9wYn7GA6Z4N",
        "outputId": "33bdffe0-71f2-4326-b19d-1a0fdfb43b29"
      },
      "execution_count": null,
      "outputs": [
        {
          "output_type": "stream",
          "name": "stdout",
          "text": [
            "Hello World\n"
          ]
        }
      ]
    },
    {
      "cell_type": "code",
      "source": [
        "string2 = string1.replace(\"World\", \"Universe\")\n",
        "print(string2)"
      ],
      "metadata": {
        "colab": {
          "base_uri": "https://localhost:8080/"
        },
        "id": "CGIdHlp86g1K",
        "outputId": "0919c01d-dfb4-42b0-81e8-d01c24bb7edc"
      },
      "execution_count": null,
      "outputs": [
        {
          "output_type": "stream",
          "name": "stdout",
          "text": [
            "Hello Universe\n"
          ]
        }
      ]
    },
    {
      "cell_type": "code",
      "source": [
        "string1 = \"Aries\"\n",
        "string2 = \"Digital Skola\"\n",
        "\n",
        "string3 = string1 +\" \"+ string2\n",
        "print(string3)"
      ],
      "metadata": {
        "colab": {
          "base_uri": "https://localhost:8080/"
        },
        "id": "YLUQsCF9657z",
        "outputId": "e7d0e1ad-fab6-40dc-8f73-37470b26a13e"
      },
      "execution_count": null,
      "outputs": [
        {
          "output_type": "stream",
          "name": "stdout",
          "text": [
            "Aries Digital Skola\n"
          ]
        }
      ]
    },
    {
      "cell_type": "code",
      "source": [
        "string4 = \" \".join([string1, string2])\n",
        "print(string4)"
      ],
      "metadata": {
        "colab": {
          "base_uri": "https://localhost:8080/"
        },
        "id": "XMn2oORO7SFw",
        "outputId": "daa1c9bb-4968-4cdc-d57c-7e4826b8837b"
      },
      "execution_count": null,
      "outputs": [
        {
          "output_type": "stream",
          "name": "stdout",
          "text": [
            "Aries Digital Skola\n"
          ]
        }
      ]
    },
    {
      "cell_type": "code",
      "source": [
        "kalimat = \"Hari merdek Republik Indonesia 17 Agustus 1945\"\n",
        "\n",
        "kata = kalimat.split()\n",
        "print(kata)"
      ],
      "metadata": {
        "colab": {
          "base_uri": "https://localhost:8080/"
        },
        "id": "1_v3Wazs7vcg",
        "outputId": "64265bae-6f17-4c5c-c36c-4d918615d003"
      },
      "execution_count": null,
      "outputs": [
        {
          "output_type": "stream",
          "name": "stdout",
          "text": [
            "['Hari', 'merdek', 'Republik', 'Indonesia', '17', 'Agustus', '1945']\n"
          ]
        }
      ]
    },
    {
      "cell_type": "code",
      "source": [
        "for i in kata:\n",
        "  print(i)"
      ],
      "metadata": {
        "colab": {
          "base_uri": "https://localhost:8080/"
        },
        "id": "2mdPMq3L8Ix6",
        "outputId": "565b617f-eebf-4f27-ee79-9608e19aa4f0"
      },
      "execution_count": null,
      "outputs": [
        {
          "output_type": "stream",
          "name": "stdout",
          "text": [
            "Hari\n",
            "merdek\n",
            "Republik\n",
            "Indonesia\n",
            "17\n",
            "Agustus\n",
            "1945\n"
          ]
        }
      ]
    },
    {
      "cell_type": "code",
      "source": [
        "string1 = \"Digital Skola\"\n",
        "\n",
        "print(len(string1))"
      ],
      "metadata": {
        "colab": {
          "base_uri": "https://localhost:8080/"
        },
        "id": "M9tiDwB48NFE",
        "outputId": "010fe205-960a-43c8-f636-614ab2986dbe"
      },
      "execution_count": null,
      "outputs": [
        {
          "output_type": "stream",
          "name": "stdout",
          "text": [
            "13\n"
          ]
        }
      ]
    },
    {
      "cell_type": "code",
      "source": [
        "harga = 1000\n",
        "txt = \"harga produk A adalah {} rupiah\"\n",
        "\n",
        "print(txt.format(harga))"
      ],
      "metadata": {
        "colab": {
          "base_uri": "https://localhost:8080/"
        },
        "id": "gj-IsAAv8aG3",
        "outputId": "b5d4bfd7-c55d-4d8c-9651-8b5c4cb91e90"
      },
      "execution_count": null,
      "outputs": [
        {
          "output_type": "stream",
          "name": "stdout",
          "text": [
            "harga produk A adalah 1000 rupiah\n"
          ]
        }
      ]
    },
    {
      "cell_type": "code",
      "source": [
        "harga = 1000\n",
        "ppn = 10\n",
        "total = harga + (harga * (ppn / 100))\n",
        "\n",
        "txt = \"harga produk A adalah {0} rupiah, ppn {1}%, total harga menjadi {2}\"\n",
        "print(txt.format(harga, ppn, total))\n"
      ],
      "metadata": {
        "id": "xXc3wiWm8-RH",
        "colab": {
          "base_uri": "https://localhost:8080/"
        },
        "outputId": "8d7adbe1-d39a-4db4-93b6-e1fb0b7d3e36"
      },
      "execution_count": null,
      "outputs": [
        {
          "output_type": "stream",
          "name": "stdout",
          "text": [
            "harga produk A adalah 1000 rupiah, ppn 10%, total harga menjadi 1100.0\n"
          ]
        }
      ]
    },
    {
      "cell_type": "code",
      "source": [
        "txt = \"harga produk A adalah {2} rupiah, ppn {0}%, total harga menjadi {1}\"\n",
        "print(txt.format(harga, ppn, total))"
      ],
      "metadata": {
        "colab": {
          "base_uri": "https://localhost:8080/"
        },
        "id": "XlBWdpcW-Mr5",
        "outputId": "21b39879-3972-4cd4-fbdb-a05ec108005b"
      },
      "execution_count": null,
      "outputs": [
        {
          "output_type": "stream",
          "name": "stdout",
          "text": [
            "harga produk A adalah 1100.0 rupiah, ppn 1000%, total harga menjadi 10\n"
          ]
        }
      ]
    },
    {
      "cell_type": "code",
      "source": [
        "txt = \"harga produk A adalah {2} rupiah, ppn {0}%, total harga menjadi {1}\"\n",
        "print(txt.format(ppn, total, harga))"
      ],
      "metadata": {
        "colab": {
          "base_uri": "https://localhost:8080/"
        },
        "id": "KpKdFUuo-i21",
        "outputId": "5a3e6dd1-5440-4607-cf50-72c3109ca8d9"
      },
      "execution_count": null,
      "outputs": [
        {
          "output_type": "stream",
          "name": "stdout",
          "text": [
            "harga produk A adalah 1000 rupiah, ppn 10%, total harga menjadi 1100.0\n"
          ]
        }
      ]
    },
    {
      "cell_type": "code",
      "source": [],
      "metadata": {
        "id": "0TwUMcYjWhwr"
      },
      "execution_count": null,
      "outputs": []
    }
  ]
}